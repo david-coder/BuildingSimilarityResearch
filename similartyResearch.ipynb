{
 "cells": [
  {
   "cell_type": "code",
   "execution_count": 50,
   "metadata": {
    "collapsed": true
   },
   "outputs": [],
   "source": [
    "import pandas as pd\n",
    "import numpy as np\n",
    "import os\n",
    "import sys"
   ]
  },
  {
   "cell_type": "code",
   "execution_count": 51,
   "metadata": {
    "scrolled": true
   },
   "outputs": [],
   "source": [
    "# 读取文件并进行处理\n",
    "def deal_with_data(file_name,area):\n",
    "    print(file_name)\n",
    "    try:\n",
    "        df = pd.read_excel('./能耗数据/{}'.format(file_name),skiprows=[0])\n",
    "        df = df.rename(columns={\n",
    "            \"分项名称\":\"Date\"\n",
    "        })\n",
    "        df = df.set_index(\"Date\")\n",
    "        # 删除总能耗为0的数据\n",
    "        df = df[df[\"公共用电\"]!=0]\n",
    "        # 判断如果数据的非0的数据行数少于365天，则需要将该项目删除掉,否则就生成该数据项的文件\n",
    "        if df.shape[0] >= 365:\n",
    "            # 然后对数据进行过滤(暂时只对公共用电进行过滤)\n",
    "            df = normal_distribute_clean(df,\"公共用电\")\n",
    "            file_name = file_name.replace(\"xls\",\"xlsx\")\n",
    "            # 计算单位面积的能耗情况\n",
    "            df[\"公共用电\"] = df[\"公共用电\"]/area\n",
    "            writer = pd.ExcelWriter('./reformat能耗/{}'.format(file_name))\n",
    "            df.to_excel(writer,index=True)\n",
    "            writer.close()\n",
    "    except Exception as e:\n",
    "        print(\"Wrong\")\n",
    "# deal_with_data(\"南昌新建吾悦-分项能耗逐日报表 2017.01.01-2019.02.27.xls\")"
   ]
  },
  {
   "cell_type": "code",
   "execution_count": 52,
   "metadata": {
    "collapsed": true
   },
   "outputs": [],
   "source": [
    "# 使用正态分布的原则进行数据的筛选\n",
    "def normal_distribute_clean(df,column):\n",
    "    column_mean_value = df[column].mean()\n",
    "    column_std_value = df[column].std()\n",
    "    df = df[(df[column] <= (column_mean_value + 3*column_std_value)) & (df[column] >= (column_mean_value - 3*column_std_value))]\n",
    "    return df\n"
   ]
  },
  {
   "cell_type": "code",
   "execution_count": 53,
   "metadata": {},
   "outputs": [
    {
     "name": "stdout",
     "output_type": "stream",
     "text": [
      "临沂-分项能耗逐日报表（按新模型） 2017.01.01-2019.02.27.xls\n",
      "丹阳分项能耗逐日报表 2017.01.01-2019.02.27.xls\n",
      "南京鼓楼吾悦分项能耗逐日报表 2017.01.01-2019.02.27.xls\n",
      "南宁兴宁吾悦-分项能耗逐日报表 2017.01.01-2019.02.27.xls\n",
      "南昌新建吾悦-分项能耗逐日报表 2017.01.01-2019.02.27.xls\n",
      "南通如皋吾悦分项能耗逐日报表 2017.01.01-2019.02.27.xls\n",
      "句容分项能耗逐日报表 2018.01.01-2019.02.27.xls\n",
      "启东分项能耗逐日报表 2018.01.01-2019.02.27.xls\n",
      "吴江吾悦-分项能耗逐日报表 2017.01.01-2019.02.27.xls\n",
      "宁波镇海吾悦分项能耗逐日报表 2017.01.01-2019.02.27.xls\n",
      "安庆分项每日报表 2017.01.01-2019.02.27.xls\n",
      "嵊州分项能耗逐日报表 2017.01.01-2019.02.27.xls\n",
      "平湖分项日能耗1 2018.01.01-2019.02.27.xls\n",
      "成都分项能耗逐日报表 2017.01.01-2019.02.26.xls\n",
      "扬州分项能耗逐日报表 2018.01.01-2019.02.27.xls\n",
      "昆山吾悦-分项能耗逐日报表 2017.01.01-2019.02.27.xls\n",
      "昆明五华分项能耗逐日报表 2017.01.01-2019.02.27.xls\n",
      "桐乡分项逐日报表 2017.01.01-2019.02.27.xls\n",
      "泉州晋江吾悦-分项能耗逐日报表 2017.01.01-2019.02.27.xls\n",
      "泰兴新城吾悦-分项能耗逐日报表 2017.01.01-2019.02.27.xls\n",
      "海口 分项能耗逐日报表 2017.01.01-2019.02.27.xls\n",
      "淮南分项能耗逐日报表(新) 2017.01.01-2019.02.27.xls\n",
      "玉环分项能耗逐日报表 2018.01.01-2019.02.27.xls\n",
      "瑞安新城-配电支路表底数逐时报表 2019.02.21-2019.02.21.xls\n",
      "Wrong\n",
      "苏州张家港吾悦-分项能耗逐日报表 2017.01.01-2019.02.27.xls\n",
      "衢州新城吾悦-分项能耗逐日报表 2017.01.01-2019.02.27.xls\n",
      "金华义乌吾悦-分项能耗逐日报表 2017.01.01-2019.02.27.xls\n",
      "金坛-分项能耗逐日报表 2017.01.01-2019.02.27.xls\n",
      "镇江丁卯分项日报表 2017.01.01-2019.02.26.xls\n",
      "长春分项能耗逐日报表 2017.01.01-2019.02.26.xls\n",
      "长沙分项能耗逐日报表 2017.01.01-2019.02.27.xls\n",
      "青浦吾悦分项能耗逐日报表 2017.01.01-2019.02.26.xls\n",
      "黄岩分项能耗逐日报表 2017.01.01-2019.02.27.xls\n"
     ]
    }
   ],
   "source": [
    "# 首先需要将所有的文件能耗数据读取进来然后进行处理\n",
    "# 读取建筑的面积信息\n",
    "area_df = pd.read_excel('./面积和建筑时间.xlsx')\n",
    "area_df[\"项目名称\"] = area_df[\"项目名称\"].apply(lambda x:x.split(\"吾悦\")[0])\n",
    "area_df = area_df.set_index(\"项目名称\")\n",
    "area_city_list = area_df.index.tolist()\n",
    "for item in os.listdir(\"./能耗数据\"):\n",
    "    for city in area_city_list:\n",
    "        if city in item:\n",
    "            area = area_df.loc[city][\"最新建筑面积\"]\n",
    "    deal_with_data(item,area)\n",
    "\n",
    "# area_df.loc[\"武进\"][\"最新建筑面积\"]"
   ]
  },
  {
   "cell_type": "code",
   "execution_count": null,
   "metadata": {
    "collapsed": true
   },
   "outputs": [],
   "source": []
  }
 ],
 "metadata": {
  "kernelspec": {
   "display_name": "Python [conda env:Anaconda3]",
   "language": "python",
   "name": "conda-env-Anaconda3-py"
  },
  "language_info": {
   "codemirror_mode": {
    "name": "ipython",
    "version": 3
   },
   "file_extension": ".py",
   "mimetype": "text/x-python",
   "name": "python",
   "nbconvert_exporter": "python",
   "pygments_lexer": "ipython3",
   "version": "3.6.1"
  }
 },
 "nbformat": 4,
 "nbformat_minor": 2
}
